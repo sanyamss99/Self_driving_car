{
  "nbformat": 4,
  "nbformat_minor": 0,
  "metadata": {
    "kernelspec": {
      "display_name": "Python 3",
      "language": "python",
      "name": "python3"
    },
    "language_info": {
      "codemirror_mode": {
        "name": "ipython",
        "version": 3
      },
      "file_extension": ".py",
      "mimetype": "text/x-python",
      "name": "python",
      "nbconvert_exporter": "python",
      "pygments_lexer": "ipython3",
      "version": "3.7.3"
    },
    "colab": {
      "name": "train.ipynb",
      "provenance": []
    },
    "accelerator": "GPU"
  },
  "cells": [
    {
      "cell_type": "code",
      "metadata": {
        "id": "f6UNLjjcW5qa",
        "outputId": "15a4d2c6-95c4-4aa5-cfed-ca3fc933110a",
        "colab": {
          "base_uri": "https://localhost:8080/",
          "height": 34
        }
      },
      "source": [
        "from google.colab import drive\n",
        "drive.mount('/content/drive/')"
      ],
      "execution_count": 1,
      "outputs": [
        {
          "output_type": "stream",
          "text": [
            "Mounted at /content/drive/\n"
          ],
          "name": "stdout"
        }
      ]
    },
    {
      "cell_type": "code",
      "metadata": {
        "id": "rfID18aFW5qn"
      },
      "source": [
        "import numpy as np\n",
        "import pandas as pd"
      ],
      "execution_count": 2,
      "outputs": []
    },
    {
      "cell_type": "code",
      "metadata": {
        "id": "PbS6ayOQW5q4"
      },
      "source": [
        "X=[]\n",
        "Y=[]\n",
        "lines=[]\n",
        "\n",
        "data_path='/content/drive/My Drive/Self-driving-car-dataset/'\n",
        "\n",
        "images_path='/content/drive/My Drive/Self-driving-car-dataset/images/'\n",
        "\n",
        "with open(data_path+'data.txt') as file:\n",
        "    lines=file.readlines()\n",
        "\n",
        "\n",
        "for line in lines:\n",
        "    w=line.split()\n",
        "    X.append(w[0])\n",
        "    Y.append(float(w[1]))\n",
        "        "
      ],
      "execution_count": 3,
      "outputs": []
    },
    {
      "cell_type": "code",
      "metadata": {
        "id": "YFj-jFwwZ96f",
        "outputId": "d91701e1-7fcb-4f66-8da2-49e825a234e7",
        "colab": {
          "base_uri": "https://localhost:8080/",
          "height": 34
        }
      },
      "source": [
        "#Do this 3-5 times, it will work in the end\n",
        "import os\n",
        "print(len(os.listdir(images_path)))"
      ],
      "execution_count": 9,
      "outputs": [
        {
          "output_type": "stream",
          "text": [
            "45573\n"
          ],
          "name": "stdout"
        }
      ]
    },
    {
      "cell_type": "code",
      "metadata": {
        "id": "d4IcxSDKW5rJ",
        "outputId": "760ccfe9-e7b4-42b5-ef84-76b1c2325473",
        "colab": {
          "base_uri": "https://localhost:8080/",
          "height": 34
        }
      },
      "source": [
        "cnt=0\n",
        "for i,x in enumerate(X):\n",
        "    X[i]=images_path+X[i]\n",
        "    if os.path.isfile(X[i]):\n",
        "        cnt+=1\n",
        "    else:\n",
        "        print(x[i])\n",
        "    \n",
        "print(cnt)"
      ],
      "execution_count": 10,
      "outputs": [
        {
          "output_type": "stream",
          "text": [
            "45406\n"
          ],
          "name": "stdout"
        }
      ]
    },
    {
      "cell_type": "code",
      "metadata": {
        "id": "fzUWJYLeW5rV",
        "outputId": "3fcbe838-00a2-4d5f-ebec-2ed200ccceaf",
        "colab": {
          "base_uri": "https://localhost:8080/",
          "height": 34
        }
      },
      "source": [
        "import math\n",
        "\n",
        "for i,y in enumerate(Y):\n",
        "    Y[i]=(y*math.pi)/180\n",
        "    \n",
        "print(Y[89])"
      ],
      "execution_count": 11,
      "outputs": [
        {
          "output_type": "stream",
          "text": [
            "0.024609142453120045\n"
          ],
          "name": "stdout"
        }
      ]
    },
    {
      "cell_type": "code",
      "metadata": {
        "id": "aTHofi30W5rg",
        "outputId": "d66cf84c-0c24-4022-dc32-8263402bd973",
        "colab": {
          "base_uri": "https://localhost:8080/",
          "height": 265
        }
      },
      "source": [
        "import matplotlib.pyplot as plt\n",
        "\n",
        "counts,bin_edges=np.histogram(Y,bins=100,density=True)\n",
        "pdf=counts/sum(counts)\n",
        "plt.plot(bin_edges[1:],pdf)\n",
        "plt.show()"
      ],
      "execution_count": 12,
      "outputs": [
        {
          "output_type": "display_data",
          "data": {
            "image/png": "[encoded data removed]",
            "text/plain": [
              "<Figure size 432x288 with 1 Axes>"
            ]
          },
          "metadata": {
            "tags": [],
            "needs_background": "light"
          }
        }
      ]
    },
    {
      "cell_type": "code",
      "metadata": {
        "id": "6H458CX9W5rn"
      },
      "source": [
        "import keras\n",
        "import cv2\n",
        "\n",
        "class Generator(keras.utils.Sequence):\n",
        "    \n",
        "    def __init__(self,X,Y,batch_size):\n",
        "        self.X=X\n",
        "        self.Y=Y\n",
        "        self.batch_size=batch_size\n",
        "        \n",
        "    def __len__(self):\n",
        "        return int(np.ceil(len(self.X)/batch_size))\n",
        "    \n",
        "    def __getitem__(self,idx):\n",
        "        #print(idx)\n",
        "        batch_x=self.X[idx*self.batch_size : (idx+1)*self.batch_size]\n",
        "        batch_y=self.Y[idx*self.batch_size : (idx+1)*self.batch_size]\n",
        "        \n",
        "        x_vec=[]\n",
        "        for img in batch_x:\n",
        "            x_vec.append(cv2.resize(cv2.imread(img)[-150:],(200,66))/255.0)\n",
        "            \n",
        "        return np.array(x_vec),np.array(batch_y)"
      ],
      "execution_count": 13,
      "outputs": []
    },
    {
      "cell_type": "code",
      "metadata": {
        "id": "V6GnvVKNW5r5"
      },
      "source": [
        "from keras.models import Sequential\n",
        "from keras.layers import Dense,Flatten,BatchNormalization,Dropout\n",
        "from keras.layers.convolutional import Conv2D,MaxPooling2D\n",
        "\n",
        "width=200\n",
        "height=66\n",
        "channels=3\n",
        "batch_size=100\n",
        "epochs=30\n",
        "model=Sequential()\n",
        "\n",
        "import tensorflow.compat.v1 as tf\n",
        "\n",
        "def conv2d(filters,kernel_size,strides,f=0):\n",
        "  #For 1st layer to add input shape\n",
        "  if f==1:\n",
        "    return Conv2D(filters,kernel_size=kernel_size,strides=strides,input_shape=(width,height,channels),\n",
        "                data_format='channels_last',activation='relu',\n",
        "                kernel_initializer=tf.keras.initializers.TruncatedNormal(stddev=0.1),\n",
        "                use_bias=True, bias_initializer=tf.keras.initializers.Constant(value=0.1))\n",
        "\n",
        "  #For rest of the layers\n",
        "  else:\n",
        "    return Conv2D(filters,kernel_size=kernel_size,strides=strides,activation='relu',\n",
        "                kernel_initializer=tf.keras.initializers.TruncatedNormal(stddev=0.1),\n",
        "                use_bias=True, bias_initializer=tf.keras.initializers.Constant(value=0.1))\n",
        "      \n",
        "\n",
        "def dense(units):\n",
        "  return Dense(units, activation='relu',\n",
        "              kernel_initializer=tf.keras.initializers.TruncatedNormal(stddev=0.1),\n",
        "              use_bias=True, bias_initializer=tf.keras.initializers.Constant(value=0.1))\n",
        "\n",
        "\n",
        "def modifiedTanh(x):\n",
        "   return tf.multiply(tf.atan(x), 2) \n",
        "\n",
        "tf.keras.utils.get_custom_objects().update({'modifiedTanh': modifiedTanh})\n",
        "\n",
        "\n",
        "#Conv Layer-1\n",
        "model.add(conv2d(24,5,2,1))\n",
        "# model.add(BatchNormalization())\n",
        "\n",
        "#Conv Layer-2\n",
        "model.add(conv2d(36,5,2))\n",
        "# model.add(BatchNormalization())\n",
        "\n",
        "#Conv Layer-3\n",
        "model.add(conv2d(48,5,2))\n",
        "# model.add(BatchNormalization())\n",
        "\n",
        "#Conv Layer-4\n",
        "model.add(conv2d(64,3,1))\n",
        "# model.add(BatchNormalization())\n",
        "\n",
        "#Conv Layer-5\n",
        "model.add(conv2d(64,3,1))\n",
        "# model.add(BatchNormalization())\n",
        "\n",
        "#Flattening\n",
        "model.add(Flatten())\n",
        "\n",
        "#Fully Connected Layer-1\n",
        "model.add(dense(1164))\n",
        "model.add(Dropout(0.2))\n",
        "\n",
        "#Fully Connected Layer-2\n",
        "model.add(dense(100))\n",
        "model.add(Dropout(0.2))\n",
        "\n",
        "#Fully Connected Layer-3\n",
        "model.add(dense(50))\n",
        "model.add(Dropout(0.2))\n",
        "\n",
        "#Fully Connected Layer-4\n",
        "model.add(dense(10))\n",
        "model.add(Dropout(0.2))\n",
        "\n",
        "# The Output Layer :\n",
        "model.add(Dense(1))\n",
        "\n"
      ],
      "execution_count": 16,
      "outputs": []
    },
    {
      "cell_type": "code",
      "metadata": {
        "id": "8tG6cNKgW5r_",
        "outputId": "5ceb38cd-9b31-45bb-a0f5-f4024fa08e55",
        "colab": {
          "base_uri": "https://localhost:8080/",
          "height": 655
        }
      },
      "source": [
        "# Compile the network :\n",
        "\n",
        "\n",
        "def loss(yTrue,yPred):\n",
        "  L2NormConst = 0.001\n",
        "  train_vars = model.trainable_variables\n",
        "\n",
        "  loss=tf.reduce_mean(tf.square(tf.subtract(yTrue, yPred)));\n",
        "  if len(train_vars)!=0:\n",
        "    loss+=tf.add_n([tf.nn.l2_loss(v) for v in train_vars]) * L2NormConst\n",
        "\n",
        "  return loss\n",
        "\n",
        "optimizer=tf.keras.optimizers.Adam(learning_rate=0.0001)\n",
        "\n",
        "model.compile(loss=loss, optimizer=optimizer, metrics=[loss,'mean_squared_error'])\n",
        "model.summary()"
      ],
      "execution_count": 17,
      "outputs": [
        {
          "output_type": "stream",
          "text": [
            "Model: \"sequential_1\"\n",
            "_________________________________________________________________\n",
            "Layer (type)                 Output Shape              Param #   \n",
            "=================================================================\n",
            "conv2d_5 (Conv2D)            (None, 98, 31, 24)        1824      \n",
            "_________________________________________________________________\n",
            "conv2d_6 (Conv2D)            (None, 47, 14, 36)        21636     \n",
            "_________________________________________________________________\n",
            "conv2d_7 (Conv2D)            (None, 22, 5, 48)         43248     \n",
            "_________________________________________________________________\n",
            "conv2d_8 (Conv2D)            (None, 20, 3, 64)         27712     \n",
            "_________________________________________________________________\n",
            "conv2d_9 (Conv2D)            (None, 18, 1, 64)         36928     \n",
            "_________________________________________________________________\n",
            "flatten_1 (Flatten)          (None, 1152)              0         \n",
            "_________________________________________________________________\n",
            "dense_5 (Dense)              (None, 1164)              1342092   \n",
            "_________________________________________________________________\n",
            "dropout_4 (Dropout)          (None, 1164)              0         \n",
            "_________________________________________________________________\n",
            "dense_6 (Dense)              (None, 100)               116500    \n",
            "_________________________________________________________________\n",
            "dropout_5 (Dropout)          (None, 100)               0         \n",
            "_________________________________________________________________\n",
            "dense_7 (Dense)              (None, 50)                5050      \n",
            "_________________________________________________________________\n",
            "dropout_6 (Dropout)          (None, 50)                0         \n",
            "_________________________________________________________________\n",
            "dense_8 (Dense)              (None, 10)                510       \n",
            "_________________________________________________________________\n",
            "dropout_7 (Dropout)          (None, 10)                0         \n",
            "_________________________________________________________________\n",
            "dense_9 (Dense)              (None, 1)                 11        \n",
            "=================================================================\n",
            "Total params: 1,595,511\n",
            "Trainable params: 1,595,511\n",
            "Non-trainable params: 0\n",
            "_________________________________________________________________\n"
          ],
          "name": "stdout"
        }
      ]
    },
    {
      "cell_type": "code",
      "metadata": {
        "id": "FR5eGRv3W5sI",
        "outputId": "7f43e702-9fa4-4801-8e52-5168429e51cc",
        "colab": {
          "base_uri": "https://localhost:8080/",
          "height": 50
        }
      },
      "source": [
        "# split=int(.8*len(X))\n",
        "# X_train=X[0:split]\n",
        "# X_val=X[split:]\n",
        "# Y_train=Y[0:split]\n",
        "# Y_val=Y[split:]\n",
        "from sklearn.model_selection import train_test_split\n",
        "X_train,X_val,Y_train,Y_val = train_test_split(X, Y, test_size=0.25, random_state=10)\n",
        "\n",
        "print(\"train:\",len(X_train),len(Y_train))\n",
        "print(\"val:\",len(X_val),len(Y_val))"
      ],
      "execution_count": 19,
      "outputs": [
        {
          "output_type": "stream",
          "text": [
            "train: 34054 34054\n",
            "val: 11352 11352\n"
          ],
          "name": "stdout"
        }
      ]
    },
    {
      "cell_type": "code",
      "metadata": {
        "id": "7HZs-w2zW5sP",
        "outputId": "7df66904-a669-4d43-ba72-0c92a57762bd",
        "colab": {
          "base_uri": "https://localhost:8080/",
          "height": 34
        }
      },
      "source": [
        "from sklearn.metrics import mean_squared_error\n",
        "\n",
        "z=[0]*len(Y_val)\n",
        "\n",
        "mean_squared_error(Y_val, z)"
      ],
      "execution_count": 20,
      "outputs": [
        {
          "output_type": "execute_result",
          "data": {
            "text/plain": [
              "0.2898044832855096"
            ]
          },
          "metadata": {
            "tags": []
          },
          "execution_count": 20
        }
      ]
    },
    {
      "cell_type": "code",
      "metadata": {
        "id": "g7GECKfPW5sY",
        "outputId": "5204d04f-943e-4844-8198-1a64c509d38f",
        "colab": {
          "base_uri": "https://localhost:8080/",
          "height": 1000
        }
      },
      "source": [
        "batch_size=128\n",
        "training_batch_generator =Generator(X_train, Y_train, batch_size)\n",
        "validation_batch_generator =Generator(X_val, Y_val, batch_size)\n",
        "\n",
        "model.fit(training_batch_generator,\n",
        "            steps_per_epoch=int(len(X_train)//batch_size),\n",
        "            epochs = epochs,\n",
        "            verbose=1,\n",
        "            workers=8,\n",
        "            validation_data=validation_batch_generator,\n",
        "            validation_steps=int(len(X_val)//batch_size))"
      ],
      "execution_count": 29,
      "outputs": [
        {
          "output_type": "stream",
          "text": [
            "Epoch 1/30\n",
            "266/266 [==============================] - 3402s 13s/step - loss: 5.6983 - mean_squared_error: 0.3513 - val_loss: 5.1360 - val_mean_squared_error: 0.2907\n",
            "Epoch 2/30\n",
            "266/266 [==============================] - 136s 512ms/step - loss: 4.7535 - mean_squared_error: 0.3036 - val_loss: 4.3936 - val_mean_squared_error: 0.2906\n",
            "Epoch 3/30\n",
            "266/266 [==============================] - 135s 508ms/step - loss: 4.1212 - mean_squared_error: 0.2978 - val_loss: 3.8669 - val_mean_squared_error: 0.2904\n",
            "Epoch 4/30\n",
            "266/266 [==============================] - 135s 507ms/step - loss: 3.6692 - mean_squared_error: 0.2944 - val_loss: 3.4861 - val_mean_squared_error: 0.2899\n",
            "Epoch 5/30\n",
            "266/266 [==============================] - 136s 512ms/step - loss: 3.3398 - mean_squared_error: 0.2911 - val_loss: 3.2000 - val_mean_squared_error: 0.2817\n",
            "Epoch 6/30\n",
            "266/266 [==============================] - 136s 511ms/step - loss: 3.0936 - mean_squared_error: 0.2842 - val_loss: 2.9823 - val_mean_squared_error: 0.2700\n",
            "Epoch 7/30\n",
            "266/266 [==============================] - 137s 514ms/step - loss: 2.8989 - mean_squared_error: 0.2699 - val_loss: 2.8086 - val_mean_squared_error: 0.2540\n",
            "Epoch 8/30\n",
            "266/266 [==============================] - 136s 511ms/step - loss: 2.7456 - mean_squared_error: 0.2564 - val_loss: 2.6624 - val_mean_squared_error: 0.2325\n",
            "Epoch 9/30\n",
            "266/266 [==============================] - 137s 517ms/step - loss: 2.6035 - mean_squared_error: 0.2280 - val_loss: 2.5218 - val_mean_squared_error: 0.1964\n",
            "Epoch 10/30\n",
            "266/266 [==============================] - 136s 510ms/step - loss: 2.4823 - mean_squared_error: 0.2046 - val_loss: 2.4118 - val_mean_squared_error: 0.1788\n",
            "Epoch 11/30\n",
            "266/266 [==============================] - 136s 513ms/step - loss: 2.3761 - mean_squared_error: 0.1865 - val_loss: 2.3033 - val_mean_squared_error: 0.1550\n",
            "Epoch 12/30\n",
            "266/266 [==============================] - 135s 508ms/step - loss: 2.2668 - mean_squared_error: 0.1595 - val_loss: 2.2019 - val_mean_squared_error: 0.1340\n",
            "Epoch 13/30\n",
            "266/266 [==============================] - 136s 510ms/step - loss: 2.1743 - mean_squared_error: 0.1460 - val_loss: 2.1077 - val_mean_squared_error: 0.1177\n",
            "Epoch 14/30\n",
            "266/266 [==============================] - 137s 515ms/step - loss: 2.0839 - mean_squared_error: 0.1326 - val_loss: 2.0243 - val_mean_squared_error: 0.1108\n",
            "Epoch 15/30\n",
            "266/266 [==============================] - 137s 514ms/step - loss: 1.9948 - mean_squared_error: 0.1196 - val_loss: 1.9347 - val_mean_squared_error: 0.0973\n",
            "Epoch 16/30\n",
            "266/266 [==============================] - 139s 522ms/step - loss: 1.9151 - mean_squared_error: 0.1159 - val_loss: 1.8547 - val_mean_squared_error: 0.0929\n",
            "Epoch 17/30\n",
            "266/266 [==============================] - 144s 543ms/step - loss: 1.8430 - mean_squared_error: 0.1192 - val_loss: 1.7694 - val_mean_squared_error: 0.0829\n",
            "Epoch 18/30\n",
            "266/266 [==============================] - 148s 557ms/step - loss: 1.7475 - mean_squared_error: 0.0989 - val_loss: 1.6857 - val_mean_squared_error: 0.0744\n",
            "Epoch 19/30\n",
            "266/266 [==============================] - 141s 531ms/step - loss: 1.6665 - mean_squared_error: 0.0935 - val_loss: 1.6190 - val_mean_squared_error: 0.0835\n",
            "Epoch 20/30\n",
            "266/266 [==============================] - 140s 528ms/step - loss: 1.5824 - mean_squared_error: 0.0851 - val_loss: 1.5534 - val_mean_squared_error: 0.0938\n",
            "Epoch 21/30\n",
            "266/266 [==============================] - 138s 518ms/step - loss: 1.5019 - mean_squared_error: 0.0804 - val_loss: 1.4400 - val_mean_squared_error: 0.0561\n",
            "Epoch 22/30\n",
            "266/266 [==============================] - 140s 525ms/step - loss: 1.4192 - mean_squared_error: 0.0734 - val_loss: 1.3669 - val_mean_squared_error: 0.0587\n",
            "Epoch 23/30\n",
            "266/266 [==============================] - 138s 518ms/step - loss: 1.3408 - mean_squared_error: 0.0705 - val_loss: 1.2936 - val_mean_squared_error: 0.0604\n",
            "Epoch 24/30\n",
            "266/266 [==============================] - 137s 516ms/step - loss: 1.2652 - mean_squared_error: 0.0697 - val_loss: 1.2215 - val_mean_squared_error: 0.0627\n",
            "Epoch 25/30\n",
            "266/266 [==============================] - 137s 513ms/step - loss: 1.1858 - mean_squared_error: 0.0638 - val_loss: 1.1324 - val_mean_squared_error: 0.0464\n",
            "Epoch 26/30\n",
            "266/266 [==============================] - 138s 518ms/step - loss: 1.1134 - mean_squared_error: 0.0636 - val_loss: 1.0566 - val_mean_squared_error: 0.0422\n",
            "Epoch 27/30\n",
            "266/266 [==============================] - 139s 523ms/step - loss: 1.0448 - mean_squared_error: 0.0657 - val_loss: 0.9870 - val_mean_squared_error: 0.0417\n",
            "Epoch 28/30\n",
            "266/266 [==============================] - 138s 519ms/step - loss: 0.9741 - mean_squared_error: 0.0627 - val_loss: 0.9196 - val_mean_squared_error: 0.0410\n",
            "Epoch 29/30\n",
            "266/266 [==============================] - 137s 516ms/step - loss: 0.9024 - mean_squared_error: 0.0563 - val_loss: 0.8516 - val_mean_squared_error: 0.0372\n",
            "Epoch 30/30\n",
            "266/266 [==============================] - 136s 511ms/step - loss: 0.8403 - mean_squared_error: 0.0572 - val_loss: 0.8022 - val_mean_squared_error: 0.0494\n"
          ],
          "name": "stdout"
        },
        {
          "output_type": "execute_result",
          "data": {
            "text/plain": [
              "<tensorflow.python.keras.callbacks.History at 0x7fa781f15c50>"
            ]
          },
          "metadata": {
            "tags": []
          },
          "execution_count": 29
        }
      ]
    },
    {
      "cell_type": "code",
      "metadata": {
        "id": "soRYhzfWW5sh"
      },
      "source": [
        "model.save('model.h5')\n",
        "# from keras.models import load_model \n",
        "# model = load_model(\"m1.h5\") "
      ],
      "execution_count": 31,
      "outputs": []
    },
    {
      "cell_type": "code",
      "metadata": {
        "id": "rJsy8jDUFVsg"
      },
      "source": [
        ""
      ],
      "execution_count": null,
      "outputs": []
    }
  ]
}