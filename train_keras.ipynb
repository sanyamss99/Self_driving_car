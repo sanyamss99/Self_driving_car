{
  "nbformat": 4,
  "nbformat_minor": 0,
  "metadata": {
    "colab": {
      "name": "train._keras_cnn.ipynb",
      "provenance": [],
      "collapsed_sections": [],
      "mount_file_id": "1wL_4xlMktOy7BWONgYbDP5t-VvicQOLJ",
      "authorship_tag": "ABX9TyPFkWEjO/I9MGa4+M2vePTp",
      "include_colab_link": true
    },
    "kernelspec": {
      "name": "python3",
      "display_name": "Python 3"
    },
    "accelerator": "GPU"
  },
  "cells": [
    {
      "cell_type": "markdown",
      "metadata": {
        "id": "view-in-github",
        "colab_type": "text"
      },
      "source": [
        "<a href=\"https://colab.research.google.com/github/sanyamss99/Self_driving_car/blob/main/train__keras_cnn.ipynb\" target=\"_parent\"><img src=\"https://colab.research.google.com/assets/colab-badge.svg\" alt=\"Open In Colab\"/></a>"
      ]
    },
    {
      "cell_type": "code",
      "metadata": {
        "id": "MVjYbJjKrqov",
        "outputId": "ec386204-10d4-47f4-872b-9b328c6f4ff9",
        "colab": {
          "base_uri": "https://localhost:8080/",
          "height": 55
        }
      },
      "source": [
        "from google.colab import drive\n",
        "drive.mount('/content/drive/')"
      ],
      "execution_count": null,
      "outputs": [
        {
          "output_type": "stream",
          "text": [
            "Drive already mounted at /content/drive/; to attempt to forcibly remount, call drive.mount(\"/content/drive/\", force_remount=True).\n"
          ],
          "name": "stdout"
        }
      ]
    },
    {
      "cell_type": "code",
      "metadata": {
        "id": "OhNNGaHGx4jG"
      },
      "source": [
        "import numpy as np\n",
        "import pandas as pd"
      ],
      "execution_count": null,
      "outputs": []
    },
    {
      "cell_type": "code",
      "metadata": {
        "id": "gp0Q6-erx67c"
      },
      "source": [
        "images_path = \"/content/drive/My Drive/images/\"\n",
        "data_path = \"/content/drive/My Drive/car_data.txt\""
      ],
      "execution_count": null,
      "outputs": []
    },
    {
      "cell_type": "code",
      "metadata": {
        "id": "mwkcHi7tyP3F"
      },
      "source": [
        "X=[]\n",
        "Y=[]\n",
        "lines=[]\n",
        "\n",
        "with open(data_path) as file:\n",
        "    lines=file.readlines()\n",
        "\n",
        "for line in lines:\n",
        "    w=line.split()\n",
        "    X.append(w[0])\n",
        "    Y.append(float(w[1]))"
      ],
      "execution_count": null,
      "outputs": []
    },
    {
      "cell_type": "code",
      "metadata": {
        "id": "iAFBBekvy6To",
        "outputId": "f3229ee5-9f50-4215-f704-49ce92b5ff79",
        "colab": {
          "base_uri": "https://localhost:8080/",
          "height": 35
        }
      },
      "source": [
        "import os\n",
        "cnt=0\n",
        "for i,x in enumerate(X):\n",
        "    X[i]=images_path+X[i]\n",
        "    if os.path.isfile(X[i]):\n",
        "        cnt+=1\n",
        "    else:\n",
        "        print(x[i])\n",
        "    \n",
        "print(cnt)"
      ],
      "execution_count": null,
      "outputs": [
        {
          "output_type": "stream",
          "text": [
            "45406\n"
          ],
          "name": "stdout"
        }
      ]
    },
    {
      "cell_type": "code",
      "metadata": {
        "id": "OgVFMgRzzLzc",
        "outputId": "fd1264e3-cec6-42c5-cc93-fbccab359faa",
        "colab": {
          "base_uri": "https://localhost:8080/",
          "height": 35
        }
      },
      "source": [
        "import math\n",
        "\n",
        "for i,y in enumerate(Y):\n",
        "    Y[i]=(y*math.pi)/180\n",
        "    \n",
        "print(Y[89])"
      ],
      "execution_count": null,
      "outputs": [
        {
          "output_type": "stream",
          "text": [
            "0.024609142453120045\n"
          ],
          "name": "stdout"
        }
      ]
    },
    {
      "cell_type": "code",
      "metadata": {
        "id": "7MA6BycOzUEl",
        "outputId": "794323d0-4fc5-432f-87e4-8a9ddef554ad",
        "colab": {
          "base_uri": "https://localhost:8080/",
          "height": 265
        }
      },
      "source": [
        "import matplotlib.pyplot as plt\n",
        "\n",
        "counts,bin_edges=np.histogram(Y,bins=100,density=True)\n",
        "pdf=counts/sum(counts)\n",
        "plt.plot(bin_edges[1:],pdf)\n",
        "plt.show()"
      ],
      "execution_count": null,
      "outputs": [
        {
          "output_type": "display_data",
          "data": {
            "image/png": "[encoded data removed]",
            "text/plain": [
              "<Figure size 432x288 with 1 Axes>"
            ]
          },
          "metadata": {
            "tags": [],
            "needs_background": "light"
          }
        }
      ]
    },
    {
      "cell_type": "code",
      "metadata": {
        "id": "ljTBbp5dzXVG"
      },
      "source": [
        "\n",
        "import keras\n",
        "import cv2\n",
        "\n",
        "class Generator(keras.utils.Sequence):\n",
        "    \n",
        "    def __init__(self,X,Y,batch_size):\n",
        "        self.X=X\n",
        "        self.Y=Y\n",
        "        self.batch_size=batch_size\n",
        "        \n",
        "    def __len__(self):\n",
        "        return int(np.ceil(len(self.X)/batch_size))\n",
        "    \n",
        "    def __getitem__(self,idx):\n",
        "        #print(idx)\n",
        "        batch_x=self.X[idx*self.batch_size : (idx+1)*self.batch_size]\n",
        "        batch_y=self.Y[idx*self.batch_size : (idx+1)*self.batch_size]\n",
        "        \n",
        "        x_vec=[]\n",
        "        for img in batch_x:\n",
        "            x_vec.append(cv2.resize(cv2.imread(img)[-150:],(200,66))/255.0)\n",
        "            \n",
        "        return np.array(x_vec),np.array(batch_y)"
      ],
      "execution_count": null,
      "outputs": []
    },
    {
      "cell_type": "code",
      "metadata": {
        "id": "19glVS7_zaH1"
      },
      "source": [
        "\n",
        "from keras.models import Sequential\n",
        "from keras.layers import Dense,Flatten,BatchNormalization,Dropout\n",
        "from keras.layers.convolutional import Conv2D,MaxPooling2D\n",
        "\n",
        "width=200\n",
        "height=66\n",
        "channels=3\n",
        "batch_size=100\n",
        "epochs=30\n",
        "model=Sequential()\n",
        "\n",
        "import tensorflow.compat.v1 as tf\n",
        "\n",
        "def conv2d(filters,kernel_size,strides,f=0):\n",
        "  #For 1st layer to add input shape\n",
        "  if f==1:\n",
        "    return Conv2D(filters,kernel_size=kernel_size,strides=strides,input_shape=(width,height,channels),\n",
        "                data_format='channels_last',activation='relu',\n",
        "                kernel_initializer=tf.keras.initializers.TruncatedNormal(stddev=0.1),\n",
        "                use_bias=True, bias_initializer=tf.keras.initializers.Constant(value=0.1))\n",
        "\n",
        "  #For rest of the layers\n",
        "  else:\n",
        "    return Conv2D(filters,kernel_size=kernel_size,strides=strides,activation='relu',\n",
        "                kernel_initializer=tf.keras.initializers.TruncatedNormal(stddev=0.1),\n",
        "                use_bias=True, bias_initializer=tf.keras.initializers.Constant(value=0.1))\n",
        "      \n",
        "\n",
        "def dense(units):\n",
        "  return Dense(units, activation='relu',\n",
        "              kernel_initializer=tf.keras.initializers.TruncatedNormal(stddev=0.1),\n",
        "              use_bias=True, bias_initializer=tf.keras.initializers.Constant(value=0.1))\n",
        "\n",
        "\n",
        "def modifiedTanh(x):\n",
        "   return tf.multiply(tf.atan(x), 2) \n",
        "\n",
        "tf.keras.utils.get_custom_objects().update({'modifiedTanh': modifiedTanh})"
      ],
      "execution_count": null,
      "outputs": []
    },
    {
      "cell_type": "code",
      "metadata": {
        "id": "LvnSFZSCzghc"
      },
      "source": [
        "#Conv Layer-1\n",
        "model.add(conv2d(24,5,2,1))\n",
        "# model.add(BatchNormalization())\n",
        "\n",
        "#Conv Layer-2\n",
        "model.add(conv2d(36,5,2))\n",
        "# model.add(BatchNormalization())\n",
        "\n",
        "#Conv Layer-3\n",
        "model.add(conv2d(48,5,2))\n",
        "# model.add(BatchNormalization())\n",
        "\n",
        "#Conv Layer-4\n",
        "model.add(conv2d(64,3,1))\n",
        "# model.add(BatchNormalization())\n",
        "\n",
        "#Conv Layer-5\n",
        "model.add(conv2d(64,3,1))\n",
        "# model.add(BatchNormalization())\n",
        "\n",
        "#Flattening\n",
        "model.add(Flatten())\n",
        "\n",
        "#Fully Connected Layer-1\n",
        "model.add(dense(1164))\n",
        "model.add(Dropout(0.2))\n",
        "\n",
        "#Fully Connected Layer-2\n",
        "model.add(dense(100))\n",
        "model.add(Dropout(0.2))\n",
        "\n",
        "#Fully Connected Layer-3\n",
        "model.add(dense(50))\n",
        "model.add(Dropout(0.2))\n",
        "\n",
        "#Fully Connected Layer-4\n",
        "model.add(dense(10))\n",
        "model.add(Dropout(0.2))\n",
        "\n",
        "# The Output Layer :\n",
        "model.add(Dense(1))"
      ],
      "execution_count": null,
      "outputs": []
    },
    {
      "cell_type": "code",
      "metadata": {
        "id": "yrTHiJxQzkgk",
        "outputId": "46dc0ba0-864d-43ff-df40-26b18f9168e4",
        "colab": {
          "base_uri": "https://localhost:8080/",
          "height": 676
        }
      },
      "source": [
        "\n",
        "# Compile the network :\n",
        "\n",
        "\n",
        "def loss(yTrue,yPred):\n",
        "  L2NormConst = 0.001\n",
        "  train_vars = model.trainable_variables\n",
        "\n",
        "  loss=tf.reduce_mean(tf.square(tf.subtract(yTrue, yPred)));\n",
        "  if len(train_vars)!=0:\n",
        "    loss+=tf.add_n([tf.nn.l2_loss(v) for v in train_vars]) * L2NormConst\n",
        "\n",
        "  return loss\n",
        "\n",
        "optimizer=tf.keras.optimizers.Adam(learning_rate=0.0001)\n",
        "\n",
        "model.compile(loss=loss, optimizer=optimizer, metrics=[loss,'mean_squared_error'])\n",
        "model.summary()\n"
      ],
      "execution_count": null,
      "outputs": [
        {
          "output_type": "stream",
          "text": [
            "Model: \"sequential\"\n",
            "_________________________________________________________________\n",
            "Layer (type)                 Output Shape              Param #   \n",
            "=================================================================\n",
            "conv2d (Conv2D)              (None, 98, 31, 24)        1824      \n",
            "_________________________________________________________________\n",
            "conv2d_1 (Conv2D)            (None, 47, 14, 36)        21636     \n",
            "_________________________________________________________________\n",
            "conv2d_2 (Conv2D)            (None, 22, 5, 48)         43248     \n",
            "_________________________________________________________________\n",
            "conv2d_3 (Conv2D)            (None, 20, 3, 64)         27712     \n",
            "_________________________________________________________________\n",
            "conv2d_4 (Conv2D)            (None, 18, 1, 64)         36928     \n",
            "_________________________________________________________________\n",
            "flatten (Flatten)            (None, 1152)              0         \n",
            "_________________________________________________________________\n",
            "dense (Dense)                (None, 1164)              1342092   \n",
            "_________________________________________________________________\n",
            "dropout (Dropout)            (None, 1164)              0         \n",
            "_________________________________________________________________\n",
            "dense_1 (Dense)              (None, 100)               116500    \n",
            "_________________________________________________________________\n",
            "dropout_1 (Dropout)          (None, 100)               0         \n",
            "_________________________________________________________________\n",
            "dense_2 (Dense)              (None, 50)                5050      \n",
            "_________________________________________________________________\n",
            "dropout_2 (Dropout)          (None, 50)                0         \n",
            "_________________________________________________________________\n",
            "dense_3 (Dense)              (None, 10)                510       \n",
            "_________________________________________________________________\n",
            "dropout_3 (Dropout)          (None, 10)                0         \n",
            "_________________________________________________________________\n",
            "dense_4 (Dense)              (None, 1)                 11        \n",
            "=================================================================\n",
            "Total params: 1,595,511\n",
            "Trainable params: 1,595,511\n",
            "Non-trainable params: 0\n",
            "_________________________________________________________________\n"
          ],
          "name": "stdout"
        }
      ]
    },
    {
      "cell_type": "code",
      "metadata": {
        "id": "mwqpmtb0zpF8",
        "outputId": "5618439d-3738-4abc-8fab-d7ee35b5d8ae",
        "colab": {
          "base_uri": "https://localhost:8080/",
          "height": 52
        }
      },
      "source": [
        "#split=int(.8*len(X))\n",
        "#X_train=X[0:split]\n",
        "#X_val=X[split:]\n",
        "#Y_train=Y[0:split]\n",
        "#Y_val=Y[split:]\n",
        "\n",
        "from sklearn.model_selection import train_test_split\n",
        "X_train,X_val,Y_train,Y_val = train_test_split(X, Y, test_size=0.25, random_state=10)\n",
        "\n",
        "print(\"train:\",len(X_train),len(Y_train))\n",
        "print(\"val:\",len(X_val),len(Y_val))"
      ],
      "execution_count": null,
      "outputs": [
        {
          "output_type": "stream",
          "text": [
            "train: 34054 34054\n",
            "val: 11352 11352\n"
          ],
          "name": "stdout"
        }
      ]
    },
    {
      "cell_type": "code",
      "metadata": {
        "id": "Ud-GQB56zs9h",
        "outputId": "adc963d4-9e94-4dab-9830-8ba05397bb09",
        "colab": {
          "base_uri": "https://localhost:8080/",
          "height": 35
        }
      },
      "source": [
        "from sklearn.metrics import mean_squared_error\n",
        "\n",
        "z=[0]*len(Y_val)\n",
        "mean_squared_error(Y_val, z)"
      ],
      "execution_count": null,
      "outputs": [
        {
          "output_type": "execute_result",
          "data": {
            "text/plain": [
              "0.2898044832855096"
            ]
          },
          "metadata": {
            "tags": []
          },
          "execution_count": 13
        }
      ]
    },
    {
      "cell_type": "code",
      "metadata": {
        "id": "DS53sKrpzw_N",
        "outputId": "1cbecf6f-2909-439d-ab0f-28e91f1d17b5",
        "colab": {
          "base_uri": "https://localhost:8080/",
          "height": 1000
        }
      },
      "source": [
        "\n",
        "training_batch_generator =Generator(X_train, Y_train, batch_size)\n",
        "validation_batch_generator =Generator(X_val, Y_val, batch_size)\n",
        "\n",
        "model.fit(training_batch_generator,\n",
        "            steps_per_epoch=int(len(X_train)//batch_size),\n",
        "            epochs = epochs,\n",
        "            verbose=1,\n",
        "            workers=8,\n",
        "            validation_data=validation_batch_generator,\n",
        "            validation_steps=int(len(X_val)//batch_size))"
      ],
      "execution_count": null,
      "outputs": [
        {
          "output_type": "stream",
          "text": [
            "Epoch 1/30\n",
            "340/340 [==============================] - 2730s 8s/step - loss: 6.1447 - mean_squared_error: 0.5603 - val_loss: 5.3683 - val_mean_squared_error: 0.2901\n",
            "Epoch 2/30\n",
            "340/340 [==============================] - 153s 450ms/step - loss: 4.9756 - mean_squared_error: 0.2953 - val_loss: 4.6178 - val_mean_squared_error: 0.2895\n",
            "Epoch 3/30\n",
            "340/340 [==============================] - 154s 453ms/step - loss: 4.3365 - mean_squared_error: 0.2933 - val_loss: 4.0735 - val_mean_squared_error: 0.2852\n",
            "Epoch 4/30\n",
            "340/340 [==============================] - 152s 446ms/step - loss: 3.8668 - mean_squared_error: 0.2886 - val_loss: 3.6658 - val_mean_squared_error: 0.2771\n",
            "Epoch 5/30\n",
            "340/340 [==============================] - 154s 452ms/step - loss: 3.5072 - mean_squared_error: 0.2788 - val_loss: 3.3449 - val_mean_squared_error: 0.2630\n",
            "Epoch 6/30\n",
            "340/340 [==============================] - 152s 448ms/step - loss: 3.2189 - mean_squared_error: 0.2654 - val_loss: 3.0771 - val_mean_squared_error: 0.2434\n",
            "Epoch 7/30\n",
            "340/340 [==============================] - 151s 445ms/step - loss: 2.9674 - mean_squared_error: 0.2417 - val_loss: 2.8357 - val_mean_squared_error: 0.2116\n",
            "Epoch 8/30\n",
            "340/340 [==============================] - 151s 444ms/step - loss: 2.7399 - mean_squared_error: 0.2098 - val_loss: 2.6299 - val_mean_squared_error: 0.1892\n",
            "Epoch 9/30\n",
            "340/340 [==============================] - 151s 445ms/step - loss: 2.5442 - mean_squared_error: 0.1885 - val_loss: 2.4320 - val_mean_squared_error: 0.1584\n",
            "Epoch 10/30\n",
            "340/340 [==============================] - 151s 445ms/step - loss: 2.3627 - mean_squared_error: 0.1679 - val_loss: 2.2545 - val_mean_squared_error: 0.1365\n",
            "Epoch 11/30\n",
            "340/340 [==============================] - 151s 443ms/step - loss: 2.1945 - mean_squared_error: 0.1515 - val_loss: 2.1030 - val_mean_squared_error: 0.1327\n",
            "Epoch 12/30\n",
            "340/340 [==============================] - 151s 445ms/step - loss: 2.0362 - mean_squared_error: 0.1365 - val_loss: 1.9437 - val_mean_squared_error: 0.1124\n",
            "Epoch 13/30\n",
            "340/340 [==============================] - 150s 442ms/step - loss: 1.8850 - mean_squared_error: 0.1209 - val_loss: 1.7885 - val_mean_squared_error: 0.0903\n",
            "Epoch 14/30\n",
            "340/340 [==============================] - 151s 443ms/step - loss: 1.7451 - mean_squared_error: 0.1112 - val_loss: 1.6584 - val_mean_squared_error: 0.0875\n",
            "Epoch 15/30\n",
            "340/340 [==============================] - 151s 444ms/step - loss: 1.6102 - mean_squared_error: 0.1011 - val_loss: 1.5352 - val_mean_squared_error: 0.0866\n",
            "Epoch 16/30\n",
            "340/340 [==============================] - 152s 446ms/step - loss: 1.4878 - mean_squared_error: 0.0981 - val_loss: 1.4174 - val_mean_squared_error: 0.0853\n",
            "Epoch 17/30\n",
            "340/340 [==============================] - 151s 445ms/step - loss: 1.3653 - mean_squared_error: 0.0896 - val_loss: 1.2882 - val_mean_squared_error: 0.0676\n",
            "Epoch 18/30\n",
            "340/340 [==============================] - 152s 447ms/step - loss: 1.2484 - mean_squared_error: 0.0815 - val_loss: 1.1782 - val_mean_squared_error: 0.0639\n",
            "Epoch 19/30\n",
            "340/340 [==============================] - 154s 454ms/step - loss: 1.1432 - mean_squared_error: 0.0794 - val_loss: 1.0777 - val_mean_squared_error: 0.0634\n",
            "Epoch 20/30\n",
            "340/340 [==============================] - 157s 461ms/step - loss: 1.0451 - mean_squared_error: 0.0784 - val_loss: 0.9816 - val_mean_squared_error: 0.0610\n",
            "Epoch 21/30\n",
            "340/340 [==============================] - 156s 459ms/step - loss: 0.9422 - mean_squared_error: 0.0665 - val_loss: 0.8818 - val_mean_squared_error: 0.0498\n",
            "Epoch 22/30\n",
            "340/340 [==============================] - 157s 461ms/step - loss: 0.8657 - mean_squared_error: 0.0753 - val_loss: 0.7910 - val_mean_squared_error: 0.0408\n",
            "Epoch 23/30\n",
            "340/340 [==============================] - 157s 461ms/step - loss: 0.7801 - mean_squared_error: 0.0681 - val_loss: 0.7167 - val_mean_squared_error: 0.0416\n",
            "Epoch 24/30\n",
            "340/340 [==============================] - 157s 461ms/step - loss: 0.6991 - mean_squared_error: 0.0590 - val_loss: 0.6409 - val_mean_squared_error: 0.0344\n",
            "Epoch 25/30\n",
            "340/340 [==============================] - 160s 471ms/step - loss: 0.6350 - mean_squared_error: 0.0601 - val_loss: 0.5796 - val_mean_squared_error: 0.0351\n",
            "Epoch 26/30\n",
            "340/340 [==============================] - 162s 476ms/step - loss: 0.5715 - mean_squared_error: 0.0555 - val_loss: 0.5492 - val_mean_squared_error: 0.0604\n",
            "Epoch 27/30\n",
            "340/340 [==============================] - 160s 471ms/step - loss: 0.5201 - mean_squared_error: 0.0562 - val_loss: 0.4883 - val_mean_squared_error: 0.0481\n",
            "Epoch 28/30\n",
            "340/340 [==============================] - 159s 469ms/step - loss: 0.4765 - mean_squared_error: 0.0577 - val_loss: 0.4391 - val_mean_squared_error: 0.0408\n",
            "Epoch 29/30\n",
            "340/340 [==============================] - 159s 468ms/step - loss: 0.4341 - mean_squared_error: 0.0545 - val_loss: 0.4063 - val_mean_squared_error: 0.0440\n",
            "Epoch 30/30\n",
            "340/340 [==============================] - 159s 469ms/step - loss: 0.3968 - mean_squared_error: 0.0505 - val_loss: 0.3750 - val_mean_squared_error: 0.0438\n"
          ],
          "name": "stdout"
        },
        {
          "output_type": "execute_result",
          "data": {
            "text/plain": [
              "<tensorflow.python.keras.callbacks.History at 0x7efc46eb94e0>"
            ]
          },
          "metadata": {
            "tags": []
          },
          "execution_count": 14
        }
      ]
    },
    {
      "cell_type": "code",
      "metadata": {
        "id": "pAfrAyvvpGET"
      },
      "source": [
        "model.save('m1.h5')"
      ],
      "execution_count": null,
      "outputs": []
    },
    {
      "cell_type": "code",
      "metadata": {
        "id": "mJFpIrqUJyCs",
        "outputId": "fcc3ca05-9c37-446d-ec8f-e91481a82e80",
        "colab": {
          "base_uri": "https://localhost:8080/",
          "height": 35
        }
      },
      "source": [
        "print(tf.__version__)"
      ],
      "execution_count": null,
      "outputs": [
        {
          "output_type": "stream",
          "text": [
            "2.3.0\n"
          ],
          "name": "stdout"
        }
      ]
    }
  ]
}
