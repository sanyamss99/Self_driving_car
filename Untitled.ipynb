{
 "cells": [
  {
   "cell_type": "code",
   "execution_count": 9,
   "metadata": {
    "ExecuteTime": {
     "end_time": "2020-10-23T10:30:18.435264Z",
     "start_time": "2020-10-23T10:30:18.419274Z"
    }
   },
   "outputs": [],
   "source": [
    "import numpy as np\n",
    "import cv2\n",
    "\n",
    "def rotate_image(img, smoothed_angle, degrees):\n",
    "    rows,cols,_ = img.shape\n",
    "    if smoothed_angle!=degrees:\n",
    "        smoothed_angle += 0.2 * pow(abs((degrees - smoothed_angle)), 2.0 / 3.0) * (degrees - smoothed_angle) / abs(degrees - smoothed_angle)\n",
    "    M = cv2.getRotationMatrix2D((cols/2,rows/2),-smoothed_angle,1)\n",
    "    dst = cv2.warpAffine(img,M,(cols,rows))\n",
    "    return dst, smoothed_angle"
   ]
  },
  {
   "cell_type": "code",
   "execution_count": 10,
   "metadata": {
    "ExecuteTime": {
     "end_time": "2020-10-23T10:30:20.419899Z",
     "start_time": "2020-10-23T10:30:20.395916Z"
    }
   },
   "outputs": [
    {
     "data": {
      "text/plain": [
       "(240, 240, 3)"
      ]
     },
     "execution_count": 10,
     "metadata": {},
     "output_type": "execute_result"
    }
   ],
   "source": [
    "import os\n",
    "wheel_path = \"C:\\\\Users\\\\hp\\\\Desktop\\\\Self_Driving_car\\\\wheel-4.jpg\"\n",
    "wheel=cv2.imread(wheel_path)\n",
    "smoothed_angle=0\n",
    "smoothed_angle_actual=0\n",
    "wheel.shape"
   ]
  },
  {
   "cell_type": "code",
   "execution_count": 11,
   "metadata": {
    "ExecuteTime": {
     "end_time": "2020-10-23T10:30:26.463898Z",
     "start_time": "2020-10-23T10:30:22.434591Z"
    }
   },
   "outputs": [
    {
     "name": "stdout",
     "output_type": "stream",
     "text": [
      "2.3.1\n"
     ]
    }
   ],
   "source": [
    "import tensorflow as tf\n",
    "print(tf.__version__)"
   ]
  },
  {
   "cell_type": "code",
   "execution_count": 12,
   "metadata": {
    "ExecuteTime": {
     "end_time": "2020-10-23T10:30:29.176092Z",
     "start_time": "2020-10-23T10:30:28.430549Z"
    }
   },
   "outputs": [],
   "source": [
    "model_path='C:\\\\Users\\\\hp\\\\Desktop\\\\Self_Driving_car\\\\m1.h5'\n",
    "model = tf.keras.models.load_model(model_path,compile=False)"
   ]
  },
  {
   "cell_type": "code",
   "execution_count": 13,
   "metadata": {
    "ExecuteTime": {
     "end_time": "2020-10-23T10:30:31.780298Z",
     "start_time": "2020-10-23T10:30:31.687279Z"
    }
   },
   "outputs": [
    {
     "name": "stdout",
     "output_type": "stream",
     "text": [
      "-2.32\n"
     ]
    }
   ],
   "source": [
    "X=[]\n",
    "Y=[]\n",
    "lines=[]\n",
    "\n",
    "data_path = \"C:\\\\Users\\\\hp\\\\Desktop\\\\Self_Driving_car\\\\car_data\\\\data.txt\"\n",
    "images_path = \"C:\\\\Users\\\\hp\\\\Desktop\\\\Self_Driving_car\\\\car_data\\\\images\\\\\"\n",
    "\n",
    "\n",
    "with open(data_path) as file:\n",
    "    lines=file.readlines()\n",
    "    \n",
    "for line in lines:\n",
    "    w=line.split()\n",
    "    X.append(w[0])\n",
    "    w1=w[1].split(',')[0]\n",
    "    Y.append(float(w1))\n",
    "print(Y[40])"
   ]
  },
  {
   "cell_type": "code",
   "execution_count": 14,
   "metadata": {
    "ExecuteTime": {
     "end_time": "2020-10-23T10:30:34.204994Z",
     "start_time": "2020-10-23T10:30:34.181010Z"
    }
   },
   "outputs": [
    {
     "data": {
      "text/plain": [
       "'C:\\\\Users\\\\hp\\\\Desktop\\\\Self_Driving_car\\\\car_data\\\\images\\\\4.jpg'"
      ]
     },
     "execution_count": 14,
     "metadata": {},
     "output_type": "execute_result"
    }
   ],
   "source": [
    "for i,x in enumerate(X):\n",
    "    X[i]=images_path+X[i]\n",
    "    \n",
    "X[4]"
   ]
  },
  {
   "cell_type": "code",
   "execution_count": 15,
   "metadata": {
    "ExecuteTime": {
     "end_time": "2020-10-23T10:30:36.208859Z",
     "start_time": "2020-10-23T10:30:36.176879Z"
    }
   },
   "outputs": [
    {
     "name": "stdout",
     "output_type": "stream",
     "text": [
      "0.05096361415823442\n"
     ]
    }
   ],
   "source": [
    "import math\n",
    "\n",
    "for i,y in enumerate(Y):\n",
    "    Y[i]=(y*math.pi)/180\n",
    "    \n",
    "print(Y[89])"
   ]
  },
  {
   "cell_type": "code",
   "execution_count": 16,
   "metadata": {
    "ExecuteTime": {
     "end_time": "2020-10-23T10:58:18.851354Z",
     "start_time": "2020-10-23T10:30:39.143347Z"
    }
   },
   "outputs": [
    {
     "name": "stdout",
     "output_type": "stream",
     "text": [
      "WARNING:tensorflow:Model was constructed with shape (None, 200, 66, 3) for input Tensor(\"conv2d_input:0\", shape=(None, 200, 66, 3), dtype=float32), but it was called on an input with incompatible shape (None, 66, 200, 3).\n"
     ]
    },
    {
     "ename": "TypeError",
     "evalue": "'NoneType' object is not subscriptable",
     "output_type": "error",
     "traceback": [
      "\u001b[1;31m---------------------------------------------------------------------------\u001b[0m",
      "\u001b[1;31mTypeError\u001b[0m                                 Traceback (most recent call last)",
      "\u001b[1;32m<ipython-input-16-c5ef5dd48a62>\u001b[0m in \u001b[0;36m<module>\u001b[1;34m\u001b[0m\n\u001b[0;32m      4\u001b[0m \u001b[1;32mwhile\u001b[0m \u001b[1;36m1\u001b[0m\u001b[1;33m:\u001b[0m\u001b[1;33m\u001b[0m\u001b[1;33m\u001b[0m\u001b[0m\n\u001b[0;32m      5\u001b[0m     \u001b[0mimg\u001b[0m\u001b[1;33m=\u001b[0m\u001b[0mcv2\u001b[0m\u001b[1;33m.\u001b[0m\u001b[0mimread\u001b[0m\u001b[1;33m(\u001b[0m\u001b[0mX\u001b[0m\u001b[1;33m[\u001b[0m\u001b[0mframe\u001b[0m\u001b[1;33m]\u001b[0m\u001b[1;33m)\u001b[0m\u001b[1;33m\u001b[0m\u001b[1;33m\u001b[0m\u001b[0m\n\u001b[1;32m----> 6\u001b[1;33m     \u001b[0mcropped_img\u001b[0m\u001b[1;33m=\u001b[0m\u001b[0mcv2\u001b[0m\u001b[1;33m.\u001b[0m\u001b[0mresize\u001b[0m\u001b[1;33m(\u001b[0m\u001b[0mimg\u001b[0m\u001b[1;33m[\u001b[0m\u001b[1;33m-\u001b[0m\u001b[1;36m150\u001b[0m\u001b[1;33m:\u001b[0m\u001b[1;33m]\u001b[0m\u001b[1;33m,\u001b[0m\u001b[1;33m(\u001b[0m\u001b[1;36m200\u001b[0m\u001b[1;33m,\u001b[0m\u001b[1;36m66\u001b[0m\u001b[1;33m)\u001b[0m\u001b[1;33m)\u001b[0m\u001b[1;33m/\u001b[0m\u001b[1;36m255.0\u001b[0m\u001b[1;33m\u001b[0m\u001b[1;33m\u001b[0m\u001b[0m\n\u001b[0m\u001b[0;32m      7\u001b[0m     \u001b[0mcv2\u001b[0m\u001b[1;33m.\u001b[0m\u001b[0mimshow\u001b[0m\u001b[1;33m(\u001b[0m\u001b[1;34m'frame'\u001b[0m\u001b[1;33m,\u001b[0m\u001b[0mimg\u001b[0m\u001b[1;33m)\u001b[0m\u001b[1;33m\u001b[0m\u001b[1;33m\u001b[0m\u001b[0m\n\u001b[0;32m      8\u001b[0m     \u001b[0mcv2\u001b[0m\u001b[1;33m.\u001b[0m\u001b[0mimshow\u001b[0m\u001b[1;33m(\u001b[0m\u001b[1;34m'cropped_frame'\u001b[0m\u001b[1;33m,\u001b[0m\u001b[0mcropped_img\u001b[0m\u001b[1;33m)\u001b[0m\u001b[1;33m\u001b[0m\u001b[1;33m\u001b[0m\u001b[0m\n",
      "\u001b[1;31mTypeError\u001b[0m: 'NoneType' object is not subscriptable"
     ]
    }
   ],
   "source": [
    "frame=0\n",
    "error=0\n",
    "cnt=0\n",
    "while 1:\n",
    "    img=cv2.imread(X[frame])\n",
    "    cropped_img=cv2.resize(img[-150:],(200,66))/255.0\n",
    "    cv2.imshow('frame',img)\n",
    "    cv2.imshow('cropped_frame',cropped_img)\n",
    "    \n",
    "    rad=model.predict(np.array([cropped_img]))[0][0]\n",
    "    \n",
    "    pred_deg=(rad*180)/(math.pi)\n",
    "    w,smoothed_angle=rotate_image(wheel,smoothed_angle,pred_deg)\n",
    "    cv2.imshow('Prediction',w)\n",
    "    \n",
    "    actual_deg=(Y[frame]*180)/(math.pi)\n",
    "    w2,smoothed_angle_actual=rotate_image(wheel,smoothed_angle_actual,actual_deg)\n",
    "    cv2.imshow('Actual',w2)\n",
    "    \n",
    "    error+=(rad-Y[frame])**2\n",
    "    \n",
    "    cnt+=1\n",
    "    MSE=error/cnt\n",
    "    \n",
    "    s=\"Prediction: \"+str(rad)+\" Actual: \"+str(Y[frame])+\" MSE: \"+str(MSE)+\"\\n\"\n",
    "    s=s.encode()\n",
    "    os.write(1,s)\n",
    "    \n",
    "    frame+=1\n",
    "    \n",
    "    \n",
    "    if cv2.waitKey(1) & 0xFF == ord('q'):\n",
    "        break\n",
    "    \n",
    "cv2.destroyAllWindows()"
   ]
  }
 ],
 "metadata": {
  "kernelspec": {
   "display_name": "Python 3",
   "language": "python",
   "name": "python3"
  },
  "language_info": {
   "codemirror_mode": {
    "name": "ipython",
    "version": 3
   },
   "file_extension": ".py",
   "mimetype": "text/x-python",
   "name": "python",
   "nbconvert_exporter": "python",
   "pygments_lexer": "ipython3",
   "version": "3.7.6"
  }
 },
 "nbformat": 4,
 "nbformat_minor": 4
}
